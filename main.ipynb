{
 "cells": [
  {
   "cell_type": "code",
   "execution_count": 1,
   "id": "06e77872",
   "metadata": {},
   "outputs": [
    {
     "name": "stderr",
     "output_type": "stream",
     "text": [
      "c:\\Users\\apoor\\projects\\NLP\\.venv\\Lib\\site-packages\\tqdm\\auto.py:21: TqdmWarning: IProgress not found. Please update jupyter and ipywidgets. See https://ipywidgets.readthedocs.io/en/stable/user_install.html\n",
      "  from .autonotebook import tqdm as notebook_tqdm\n"
     ]
    }
   ],
   "source": [
    "from datasets import load_dataset\n",
    "import pandas as pd\n",
    "import torch\n",
    "import datasets\n",
    "\n",
    "train = load_dataset(\"text\",data_files=\"NCBI_corpus_training.txt\")\n",
    "test = load_dataset(\"text\", data_files=\"NCBI_corpus_testing.txt\")\n",
    "db_train = train[\"train\"]\n",
    "db_test = test[\"train\"]"
   ]
  },
  {
   "cell_type": "code",
   "execution_count": 2,
   "id": "e46e6ed2",
   "metadata": {},
   "outputs": [
    {
     "name": "stdout",
     "output_type": "stream",
     "text": [
      "True\n"
     ]
    }
   ],
   "source": [
    "print(torch.cuda.is_available())"
   ]
  },
  {
   "cell_type": "code",
   "execution_count": 3,
   "id": "faaf5823",
   "metadata": {},
   "outputs": [
    {
     "name": "stdout",
     "output_type": "stream",
     "text": [
      "{'text': '10021369\\tIdentification of APC2, a homologue of the <category=\"Modifier\">adenomatous polyposis coli tumour</category> suppressor .\\tThe <category=\"Modifier\">adenomatous polyposis coli ( APC ) tumour</category>-suppressor protein controls the Wnt signalling pathway by forming a complex with glycogen synthase kinase 3beta ( GSK-3beta ) , axin / conductin and betacatenin . Complex formation induces the rapid degradation of betacatenin . In <category=\"Modifier\">colon carcinoma</category> cells , loss of APC leads to the accumulation of betacatenin in the nucleus , where it binds to and activates the Tcf-4 transcription factor ( reviewed in [ 1 ] [ 2 ] ) . Here , we report the identification and genomic structure of APC homologues . Mammalian APC2 , which closely resembles APC in overall domain structure , was functionally analyzed and shown to contain two SAMP domains , both of which are required for binding to conductin . Like APC , APC2 regulates the formation of active betacatenin-Tcf complexes , as demonstrated using transient transcriptional activation assays in APC - / - <category=\"Modifier\">colon carcinoma</category> cells . Human APC2 maps to chromosome 19p13 . 3 . APC and APC2 may therefore have comparable functions in development and <category=\"SpecificDisease\">cancer</category> .'}\n",
      "DatasetDict({\n",
      "    train: Dataset({\n",
      "        features: ['text'],\n",
      "        num_rows: 100\n",
      "    })\n",
      "})\n"
     ]
    }
   ],
   "source": [
    "# print(db[10])\n",
    "\n",
    "print(db_train[0])\n",
    "print(test)\n",
    "\n",
    "# with open(\"datainstance.txt\", \"w\", encoding=\"utf-8\") as f:\n",
    "#     f.write(text_instance)"
   ]
  },
  {
   "cell_type": "code",
   "execution_count": 4,
   "id": "1fc0c93b",
   "metadata": {},
   "outputs": [
    {
     "data": {
      "text/html": [
       "<div>\n",
       "<style scoped>\n",
       "    .dataframe tbody tr th:only-of-type {\n",
       "        vertical-align: middle;\n",
       "    }\n",
       "\n",
       "    .dataframe tbody tr th {\n",
       "        vertical-align: top;\n",
       "    }\n",
       "\n",
       "    .dataframe thead th {\n",
       "        text-align: right;\n",
       "    }\n",
       "</style>\n",
       "<table border=\"1\" class=\"dataframe\">\n",
       "  <thead>\n",
       "    <tr style=\"text-align: right;\">\n",
       "      <th></th>\n",
       "      <th>train</th>\n",
       "    </tr>\n",
       "  </thead>\n",
       "  <tbody>\n",
       "    <tr>\n",
       "      <th>0</th>\n",
       "      <td>{'text': '9288106\tClustering of missense mutat...</td>\n",
       "    </tr>\n",
       "    <tr>\n",
       "      <th>1</th>\n",
       "      <td>{'text': '9294109\t&lt;category=\"Modifier\"&gt;Myotoni...</td>\n",
       "    </tr>\n",
       "    <tr>\n",
       "      <th>2</th>\n",
       "      <td>{'text': '9311732\tConstitutional RB1-gene muta...</td>\n",
       "    </tr>\n",
       "    <tr>\n",
       "      <th>3</th>\n",
       "      <td>{'text': '932197\t&lt;category=\"SpecificDisease\"&gt;H...</td>\n",
       "    </tr>\n",
       "    <tr>\n",
       "      <th>4</th>\n",
       "      <td>{'text': '9336417\tSusceptibility to &lt;category=...</td>\n",
       "    </tr>\n",
       "  </tbody>\n",
       "</table>\n",
       "</div>"
      ],
      "text/plain": [
       "                                               train\n",
       "0  {'text': '9288106\tClustering of missense mutat...\n",
       "1  {'text': '9294109\t<category=\"Modifier\">Myotoni...\n",
       "2  {'text': '9311732\tConstitutional RB1-gene muta...\n",
       "3  {'text': '932197\t<category=\"SpecificDisease\">H...\n",
       "4  {'text': '9336417\tSusceptibility to <category=..."
      ]
     },
     "execution_count": 4,
     "metadata": {},
     "output_type": "execute_result"
    }
   ],
   "source": [
    "test_db = pd.DataFrame(test)\n",
    "test_db.head()"
   ]
  },
  {
   "cell_type": "code",
   "execution_count": null,
   "id": "0b6b6796",
   "metadata": {},
   "outputs": [
    {
     "name": "stderr",
     "output_type": "stream",
     "text": [
      "Device set to use cuda:0\n",
      "Asking to truncate to max_length but no maximum length is provided and the model has no predefined maximum length. Default to no truncation.\n",
      "You seem to be using the pipelines sequentially on GPU. In order to maximize efficiency please use a dataset\n"
     ]
    }
   ],
   "source": [
    "from transformers import pipeline\n",
    "\n",
    "# Load the model and tokenizer\n",
    "# Model: https://huggingface.co/OpenMed/OpenMed-NER-DiseaseDetect-SuperClinical-434M\n",
    "model_name = \"OpenMed/OpenMed-NER-DiseaseDetect-SuperClinical-434M\"\n",
    "\n",
    "# Create a pipeline\n",
    "medical_ner_pipeline = pipeline(\n",
    "    model=model_name,\n",
    "    aggregation_strategy=\"simple\"\n",
    ")\n",
    "\n",
    "# Example usage\n",
    "result = []\n",
    "for i in test_db[\"train\"]:\n",
    "    text = i[\"text\"]\n",
    "    entities = medical_ner_pipeline(text)\n",
    "    result.append(entities)\n",
    "\n",
    "    for entity in entities:\n",
    "        result.append({\n",
    "            \"Original Text\": text,\n",
    "            \"Entity Text\": entity[\"word\"],\n",
    "            \"Entity Label\": entity[\"entity_group\"],\n",
    "            \"Entity Start\": entity[\"start\"],\n",
    "            \"Entity End\": entity[\"end\"],\n",
    "            \"score\": entity[\"score\"]\n",
    "        })\n",
    "\n",
    "result = pd.DataFrame(result)\n"
   ]
  },
  {
   "cell_type": "code",
   "execution_count": null,
   "id": "dfa00d0f",
   "metadata": {},
   "outputs": [
    {
     "data": {
      "text/plain": [
       "{'entity_group': 'DISEASE',\n",
       " 'score': np.float32(0.8956737),\n",
       " 'word': 'ia-telangiectasia',\n",
       " 'start': 210,\n",
       " 'end': 227}"
      ]
     },
     "execution_count": 6,
     "metadata": {},
     "output_type": "execute_result"
    }
   ],
   "source": [
    "result.iloc[0,5]"
   ]
  },
  {
   "cell_type": "code",
   "execution_count": null,
   "id": "3f475239",
   "metadata": {},
   "outputs": [],
   "source": [
    "test = pd.read_csv(\"https://github.com/spyysalo/ncbi-disease/raw/master/conll/test.tsv\",sep=\"\\t\", names=[\"token\", \"tag\"])"
   ]
  },
  {
   "cell_type": "code",
   "execution_count": null,
   "id": "1098e2bc",
   "metadata": {},
   "outputs": [
    {
     "data": {
      "text/html": [
       "<div>\n",
       "<style scoped>\n",
       "    .dataframe tbody tr th:only-of-type {\n",
       "        vertical-align: middle;\n",
       "    }\n",
       "\n",
       "    .dataframe tbody tr th {\n",
       "        vertical-align: top;\n",
       "    }\n",
       "\n",
       "    .dataframe thead th {\n",
       "        text-align: right;\n",
       "    }\n",
       "</style>\n",
       "<table border=\"1\" class=\"dataframe\">\n",
       "  <thead>\n",
       "    <tr style=\"text-align: right;\">\n",
       "      <th></th>\n",
       "      <th>token</th>\n",
       "      <th>tag</th>\n",
       "    </tr>\n",
       "  </thead>\n",
       "  <tbody>\n",
       "    <tr>\n",
       "      <th>0</th>\n",
       "      <td>Clustering</td>\n",
       "      <td>O</td>\n",
       "    </tr>\n",
       "    <tr>\n",
       "      <th>1</th>\n",
       "      <td>of</td>\n",
       "      <td>O</td>\n",
       "    </tr>\n",
       "    <tr>\n",
       "      <th>2</th>\n",
       "      <td>missense</td>\n",
       "      <td>O</td>\n",
       "    </tr>\n",
       "    <tr>\n",
       "      <th>3</th>\n",
       "      <td>mutations</td>\n",
       "      <td>O</td>\n",
       "    </tr>\n",
       "    <tr>\n",
       "      <th>4</th>\n",
       "      <td>in</td>\n",
       "      <td>O</td>\n",
       "    </tr>\n",
       "  </tbody>\n",
       "</table>\n",
       "</div>"
      ],
      "text/plain": [
       "        token tag\n",
       "0  Clustering   O\n",
       "1          of   O\n",
       "2    missense   O\n",
       "3   mutations   O\n",
       "4          in   O"
      ]
     },
     "execution_count": 8,
     "metadata": {},
     "output_type": "execute_result"
    }
   ],
   "source": [
    "test.head()"
   ]
  }
 ],
 "metadata": {
  "kernelspec": {
   "display_name": ".venv",
   "language": "python",
   "name": "python3"
  },
  "language_info": {
   "codemirror_mode": {
    "name": "ipython",
    "version": 3
   },
   "file_extension": ".py",
   "mimetype": "text/x-python",
   "name": "python",
   "nbconvert_exporter": "python",
   "pygments_lexer": "ipython3",
   "version": "3.13.5"
  }
 },
 "nbformat": 4,
 "nbformat_minor": 5
}
